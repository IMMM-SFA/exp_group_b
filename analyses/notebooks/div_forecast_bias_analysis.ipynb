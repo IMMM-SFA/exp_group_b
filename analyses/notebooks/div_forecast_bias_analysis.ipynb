{
 "cells": [
  {
   "cell_type": "markdown",
   "id": "dd40f4f4-5a80-40b7-94b3-aed136daa9d8",
   "metadata": {},
   "source": [
    "# Divergence: Analysis of Forecast Bias in the EIA-930 Dataset\n",
    "\n",
    "This notebook analyzes the distribution of forecast biases in the EIA-930 dataset. The goal is to establish a baseline value against which we can measure if future scenarios of \n",
    "load from the TELL model have \"meaningfully\" diverged from one another."
   ]
  },
  {
   "cell_type": "code",
   "execution_count": null,
   "id": "27e597e9-538f-41d4-afa9-a268b10ab1df",
   "metadata": {},
   "outputs": [],
   "source": [
    "# Start by importing the packages we need:\n",
    "import os\n",
    "\n",
    "import pandas as pd\n",
    "import matplotlib.pyplot as plt\n",
    "import numpy as np\n",
    "\n",
    "from glob import glob\n"
   ]
  },
  {
   "cell_type": "markdown",
   "id": "795f6fe5-0769-4298-887e-7c4cffc64a0d",
   "metadata": {},
   "source": [
    "## Set the Directory Structure"
   ]
  },
  {
   "cell_type": "code",
   "execution_count": null,
   "id": "bd887600-32da-46dc-b411-fa63c75f564f",
   "metadata": {
    "pycharm": {
     "name": "#%%\n"
    }
   },
   "outputs": [],
   "source": [
    "# Identify the data input and output directories:\n",
    "data_input_dir =  '/Users/burl878/Documents/IMMM/Data/TELL_Input_Data/tell_quickstarter_data/outputs/historical_ba_load/'\n",
    "image_output_dir =  '/Users/burl878/Documents/Code/code_repos/exp_group_b/analyses/plots/forecast_bias/'\n",
    "\n",
    "# If the \"image_output_dir\" subdirectory doesn't exist then create it:\n",
    "if not os.path.exists(image_output_dir):\n",
    "   os.makedirs(image_output_dir)\n"
   ]
  },
  {
   "cell_type": "markdown",
   "id": "7f055d71-411a-4b85-b0b8-5fd3f9059796",
   "metadata": {},
   "source": [
    "## Process the EIA-930 Dataset"
   ]
  },
  {
   "cell_type": "code",
   "execution_count": null,
   "id": "4b04f656-5fab-4fcb-86db-63c64db9c2c0",
   "metadata": {},
   "outputs": [],
   "source": [
    "# Create a list of all files in the input directory:\n",
    "list_of_files = glob(f'{data_input_dir}*.csv')\n",
    "\n",
    "# Loop over the list of files and extract the forecast bias time series for each BA:\n",
    "for file in range(len(list_of_files)):\n",
    "    # Read in the .csv file:\n",
    "    ba_df = pd.read_csv(list_of_files[file])\n",
    "    \n",
    "    # Rename the columns for simplicity:\n",
    "    ba_df.rename(columns={'Forecast_Demand_MWh': 'Forecast_MWh',\n",
    "                          'Adjusted_Demand_MWh': 'Demand_MWh'}, inplace=True)\n",
    "    \n",
    "    # Subset to only the years from 2018 to 2020:\n",
    "    ba_df = ba_df.loc[(ba_df['Year'] >= 2018) & (ba_df['Year'] <= 2020)]\n",
    "    \n",
    "    # Subset to only rows without NaNs for the forecast and adjusted demand:\n",
    "    ba_df = ba_df[(~ba_df['Forecast_MWh'].isnull()) & (~ba_df['Demand_MWh'].isnull())]\n",
    "    \n",
    "    # Calculate the forecast bias:\n",
    "    ba_df['Absolute_Bias_MWh'] = ba_df['Demand_MWh'] - ba_df['Forecast_MWh']\n",
    "    \n",
    "    # Calculate the relative forecast bias:\n",
    "    ba_df['Relative_Bias_%'] = 100*(ba_df['Absolute_Bias_MWh']/ba_df['Demand_MWh']).round(4)\n",
    "    \n",
    "    # Only keep the columns that are needed:\n",
    "    ba_df = ba_df[['Demand_MWh', 'Forecast_MWh', 'Absolute_Bias_MWh', 'Relative_Bias_%']].copy()\n",
    "    \n",
    "    # Concatenate the bias time series across BAs:\n",
    "    if file == 0:\n",
    "       output_df = ba_df.copy()\n",
    "    else:\n",
    "       output_df = pd.concat([output_df, ba_df])\n",
    "    \n",
    "    del ba_df\n",
    "    \n",
    "# Replace infinite data with NaN:\n",
    "output_df.replace([np.inf, -np.inf], np.nan, inplace=True)\n",
    "\n",
    "# Drop rows with NaN values:\n",
    "output_df.dropna(inplace=True)\n",
    "\n",
    "# Drop rows with biases greater than 50%:\n",
    "output_df = output_df.loc[(output_df['Relative_Bias_%'] <= 50) & (output_df['Relative_Bias_%'] >= -50)]\n",
    "\n",
    "# Calculate the mean and standard deviation of the bias time series:\n",
    "bias_mean = output_df['Relative_Bias_%'].mean()\n",
    "bias_std = output_df['Relative_Bias_%'].std()\n",
    "print(('Mean = ' + str(bias_mean.round(2)) + '%'))\n",
    "print(('Standard Deviation = ' + str(bias_std.round(2)) + '%'))\n",
    "\n",
    "# Return the output as a dataframe:\n",
    "output_df\n"
   ]
  },
  {
   "cell_type": "markdown",
   "id": "0dc65f89-cd8f-4a78-9cb9-c93e4f6b91ac",
   "metadata": {},
   "source": [
    "## Make the Plot"
   ]
  },
  {
   "cell_type": "code",
   "execution_count": null,
   "id": "b928702f-7683-4454-8e68-a02de25e31a8",
   "metadata": {},
   "outputs": [],
   "source": [
    "# Make the plot:\n",
    "plt.figure(figsize=(25, 10))\n",
    "plt.rcParams['font.size'] = 21\n",
    "n, bins, patches = plt.hist(output_df['Relative_Bias_%'], 200, density=True, facecolor='b', edgecolor='gray', alpha=0.4, label='Histogram')\n",
    "plt.plot([bias_mean, bias_mean], [0, 1], color='k', linestyle='-', label='Mean', linewidth=3)\n",
    "plt.plot([(bias_mean - bias_std), (bias_mean - bias_std)], [0, 1], color='k', linestyle=':', label='Mean +/- 1 Standard Deviation', linewidth=3)\n",
    "plt.plot([(bias_mean + bias_std), (bias_mean + bias_std)], [0, 1], color='k', linestyle=':', linewidth=3)\n",
    "plt.xlim(-25, 25)\n",
    "plt.ylim(0, 0.12)\n",
    "plt.xticks([-25, -20, -15, -10, -5, 0, 5, 10, 15, 20, 25])\n",
    "plt.legend(loc='upper left')\n",
    "plt.xlabel('Hourly Demand Forecast Bias [%]')\n",
    "plt.ylabel('Probability')\n",
    "plt.title('EIA-930 Balancing Authority Demand Forecast Bias Distribution: 2018-2020')\n",
    "\n",
    "filename = ('Load_Forecast_Bias_Distribution.png')\n",
    "plt.savefig(os.path.join(image_output_dir, filename), dpi=300, bbox_inches='tight', facecolor='white')\n"
   ]
  },
  {
   "cell_type": "code",
   "execution_count": null,
   "id": "fd207294-c063-40a3-845a-9dca194b7cff",
   "metadata": {},
   "outputs": [],
   "source": []
  }
 ],
 "metadata": {
  "kernelspec": {
   "display_name": "py3.9.15_std",
   "language": "python",
   "name": "py3.9.15_std"
  },
  "language_info": {
   "codemirror_mode": {
    "name": "ipython",
    "version": 3
   },
   "file_extension": ".py",
   "mimetype": "text/x-python",
   "name": "python",
   "nbconvert_exporter": "python",
   "pygments_lexer": "ipython3",
   "version": "3.9.15"
  }
 },
 "nbformat": 4,
 "nbformat_minor": 5
}
