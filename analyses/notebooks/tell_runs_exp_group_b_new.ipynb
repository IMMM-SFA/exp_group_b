{
 "cells": [
  {
   "cell_type": "markdown",
   "id": "9e071b84",
   "metadata": {
    "pycharm": {
     "name": "#%% md\n"
    }
   },
   "source": [
    "# TELL Runs for IM3's Experiment Group B \n",
    "\n",
    "This notebook executes the initial set of runs of the TELL model for IM3's Experiment Group B."
   ]
  },
  {
   "cell_type": "code",
   "execution_count": 1,
   "id": "86db683a-70a2-4f89-a1d6-4c6d5f180272",
   "metadata": {
    "pycharm": {
     "name": "#%%\n"
    }
   },
   "outputs": [],
   "source": [
    "# Start by importing the TELL package and information about your operating system:\n",
    "import os \n",
    "import tell\n",
    "\n",
    "import pandas as pd\n",
    "import matplotlib.pyplot as plt\n",
    "\n",
    "from tell.package_data import get_ba_abbreviations\n",
    "from tell import state_metadata_from_state_abbreviation\n",
    "from scipy import interpolate\n"
   ]
  },
  {
   "cell_type": "markdown",
   "id": "566fce96-4576-4a2d-9db6-4d0be72b3c1d",
   "metadata": {
    "pycharm": {
     "name": "#%% md\n"
    }
   },
   "source": [
    "## Set the Directory Structure"
   ]
  },
  {
   "cell_type": "code",
   "execution_count": 2,
   "id": "f7cc0f66-ba83-47d4-b161-0b1ad076064c",
   "metadata": {
    "pycharm": {
     "name": "#%%\n"
    }
   },
   "outputs": [],
   "source": [
    "# Identify the top-level directory and the subdirectory where the data will be stored:\n",
    "current_dir =  '/Users/burl878/Documents/IMMM/Data/TELL/Production_Runs_V2'\n",
    "tell_data_dir = os.path.join(current_dir, r'tell_data')\n",
    "\n",
    "# If the \"tell_data_dir\" subdirectory doesn't exist then create it:\n",
    "if not os.path.exists(tell_data_dir):\n",
    "   os.makedirs(tell_data_dir)\n"
   ]
  },
  {
   "cell_type": "markdown",
   "id": "4a037554",
   "metadata": {
    "pycharm": {
     "name": "#%% md\n"
    }
   },
   "source": [
    "## Run the MLP Models"
   ]
  },
  {
   "cell_type": "code",
   "execution_count": null,
   "id": "76a6b851-29c9-4a1b-a149-ee341f1af5cd",
   "metadata": {
    "pycharm": {
     "name": "#%%\n"
    }
   },
   "outputs": [],
   "source": [
    "# Generate a list of BA abbreviations to process:\n",
    "ba_abbrev_list = tell.get_balancing_authority_to_model_dict().keys()\n",
    "\n",
    "scenario_to_process = 'rcp85hotter_ssp5'\n",
    "\n",
    "# Run the MLP prediction step for the list of BAs using parallel processing streams:\n",
    "for year_to_process in range(2049,2050,1):\n",
    "    pdf = tell.predict_batch(target_region_list = ba_abbrev_list,\n",
    "                             year = year_to_process,\n",
    "                             data_dir = os.path.join(tell_data_dir, r'wrf_to_tell_data', scenario_to_process),\n",
    "                             datetime_field_name = 'Time_UTC',\n",
    "                             save_prediction = True,\n",
    "                             prediction_output_directory = os.path.join(tell_data_dir, r'outputs', r'mlp_output', scenario_to_process),\n",
    "                             n_jobs = -1)\n"
   ]
  },
  {
   "cell_type": "markdown",
   "id": "f99c5bd0-9302-44b4-8df0-276256d152bf",
   "metadata": {},
   "source": [
    "## Test the New Ingest Function for the GCAM-USA Data\n"
   ]
  },
  {
   "cell_type": "code",
   "execution_count": null,
   "id": "53abc51d-27a8-4c96-8b0b-164c3a2504d3",
   "metadata": {
    "tags": []
   },
   "outputs": [],
   "source": [
    "gcam_usa_input_dir = '/Users/burl878/Documents/IMMM/Data/TELL/Production_Runs_V2/tell_data/gcamusa_data'\n"
   ]
  },
  {
   "cell_type": "code",
   "execution_count": null,
   "id": "d28b1389-8b82-403d-80d5-f4715960ae57",
   "metadata": {
    "tags": []
   },
   "outputs": [],
   "source": [
    "def extract_gcam_usa_loads(scenario_to_process: str):\n",
    "    \"\"\"Extracts the state-level annual loads from a GCAM-USA output file.\n",
    "\n",
    "    :param scenario_to_process: Scenario to process\n",
    "    :type scenario_to_process:  str\n",
    "\n",
    "    :return:                    DataFrame of state-level annual total electricity loads\n",
    "\n",
    "    \"\"\"\n",
    "\n",
    "    # Cluge the scenario for historical runs:\n",
    "    if scenario_to_process == 'historic':\n",
    "       scenario_to_process_gcam = 'rcp45cooler_ssp3'\n",
    "    else:\n",
    "       scenario_to_process_gcam = scenario_to_process\n",
    "\n",
    "    # Create the filename for the needed GCAM run:\n",
    "    filename = (os.path.join(gcam_usa_input_dir, ('electricity_demand_' + scenario_to_process_gcam + '.csv')))\n",
    "    \n",
    "    # Load in the raw GCAM-USA output file:\n",
    "    gcam_usa_df = pd.read_csv(filename, index_col=None, header=0)\n",
    "    \n",
    "    # Make a list of all of the states in the \"gcam_usa_df\":\n",
    "    states = gcam_usa_df['subRegion'].unique()\n",
    "\n",
    "    # Loop over the states and interpolate their loads to an annual time step:\n",
    "    for i in range(len(states)):\n",
    "    # for i in range(1):\n",
    "\n",
    "        # Subset to just the data for the state being processed:\n",
    "        subset_df = gcam_usa_df[gcam_usa_df['subRegion'].isin([states[i]])].copy()\n",
    "\n",
    "        # Retrieve the state metadata:\n",
    "        (state_fips, state_name) = state_metadata_from_state_abbreviation(states[i])\n",
    "\n",
    "        # Linearly interpolate the 5-year loads from GCAM-USA to an annual time step:\n",
    "        annual_time_vector = pd.Series(range(subset_df['x'].min(), subset_df['x'].max()))\n",
    "        interpolation_function = interpolate.interp1d(subset_df['x'], subset_df['value'], kind='linear')\n",
    "        annual_loads = interpolation_function(annual_time_vector)\n",
    "\n",
    "        # Create an empty dataframe and store the results:\n",
    "        state_df = pd.DataFrame()\n",
    "        state_df['Year'] = annual_time_vector.tolist()\n",
    "        state_df['GCAM_USA_State_Annual_Load_TWh'] = annual_loads\n",
    "        state_df['State_FIPS'] = state_fips\n",
    "        state_df['State_Name'] = state_name\n",
    "        state_df['State_Abbreviation'] = states[i]\n",
    "\n",
    "        # Aggregate the output into a new dataframe:\n",
    "        if i == 0:\n",
    "            gcam_usa_output_df = state_df\n",
    "        else:\n",
    "            gcam_usa_output_df = pd.concat([gcam_usa_output_df, state_df])\n",
    "\n",
    "    return gcam_usa_output_df\n"
   ]
  },
  {
   "cell_type": "code",
   "execution_count": null,
   "id": "7bf90607-4797-40bc-8f71-28e9b079ddec",
   "metadata": {
    "tags": []
   },
   "outputs": [],
   "source": [
    "test_df = extract_gcam_usa_loads(scenario_to_process = 'rcp45cooler_ssp3')\n",
    "\n",
    "test_df\n"
   ]
  },
  {
   "cell_type": "markdown",
   "id": "f9048639",
   "metadata": {
    "pycharm": {
     "name": "#%% md\n"
    }
   },
   "source": [
    "## Run the Forward Execution"
   ]
  },
  {
   "cell_type": "code",
   "execution_count": null,
   "id": "04afab9a",
   "metadata": {
    "pycharm": {
     "name": "#%%\n"
    }
   },
   "outputs": [
    {
     "name": "stdout",
     "output_type": "stream",
     "text": [
      "Scenario =  historic  , Year =  2007\n",
      "Elapsed time =  0:01:08.574128\n",
      "Scenario =  historic  , Year =  2008\n",
      "Elapsed time =  0:01:08.709681\n",
      "Scenario =  historic  , Year =  2009\n",
      "Elapsed time =  0:01:08.322191\n",
      "Scenario =  historic  , Year =  2010\n",
      "Elapsed time =  0:01:11.559144\n",
      "Scenario =  historic  , Year =  2011\n",
      "Elapsed time =  0:01:11.349524\n",
      "Scenario =  historic  , Year =  2012\n",
      "Elapsed time =  0:01:11.145497\n",
      "Scenario =  historic  , Year =  2013\n",
      "Elapsed time =  0:01:10.215729\n",
      "Scenario =  historic  , Year =  2014\n",
      "Elapsed time =  0:01:08.018387\n",
      "Scenario =  historic  , Year =  2015\n",
      "Elapsed time =  0:01:09.152000\n",
      "Scenario =  historic  , Year =  2016\n",
      "Elapsed time =  0:01:09.537181\n",
      "Scenario =  historic  , Year =  2017\n",
      "Elapsed time =  0:01:08.902471\n",
      "Scenario =  historic  , Year =  2018\n",
      "Elapsed time =  0:01:09.155384\n",
      "Scenario =  historic  , Year =  2019\n"
     ]
    }
   ],
   "source": [
    "# Run the TELL model forward in time:\n",
    "for year in range(2007,2020,1):\n",
    "    summary_df, ba_time_series_df, state_time_series_df = tell.execute_forward(year_to_process = str(year),\n",
    "                                                                               gcam_target_year = str(year), \n",
    "                                                                               scenario_to_process = 'historic',\n",
    "                                                                               data_output_dir = '/Users/burl878/Documents/IMMM/Data/TELL/Production_Runs_V2/tell_data/outputs/tell_output',\n",
    "                                                                               gcam_usa_input_dir = '/Users/burl878/Documents/IMMM/Data/TELL/Production_Runs_V2/tell_data/gcamusa_data',\n",
    "                                                                               map_input_dir = '/Users/burl878/Documents/IMMM/Data/TELL/Production_Runs_V2/tell_data/ba_service_territory_data',\n",
    "                                                                               mlp_input_dir = '/Users/burl878/Documents/IMMM/Data/TELL/Production_Runs_V2/tell_data/outputs/mlp_output',\n",
    "                                                                               pop_input_dir = '/Users/burl878/Documents/IMMM/Data/TELL/Production_Runs_V2/tell_data/population_data',\n",
    "                                                                               save_county_data = False)\n"
   ]
  },
  {
   "cell_type": "code",
   "execution_count": null,
   "id": "51e7df02-d9ed-4436-ae78-e0d4365b4fe2",
   "metadata": {},
   "outputs": [],
   "source": []
  }
 ],
 "metadata": {
  "kernelspec": {
   "display_name": "py3.9.15_std",
   "language": "python",
   "name": "py3.9.15_std"
  },
  "language_info": {
   "codemirror_mode": {
    "name": "ipython",
    "version": 3
   },
   "file_extension": ".py",
   "mimetype": "text/x-python",
   "name": "python",
   "nbconvert_exporter": "python",
   "pygments_lexer": "ipython3",
   "version": "3.9.15"
  }
 },
 "nbformat": 4,
 "nbformat_minor": 5
}
