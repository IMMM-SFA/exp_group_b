{
 "cells": [
  {
   "cell_type": "markdown",
   "id": "9e071b84",
   "metadata": {
    "pycharm": {
     "name": "#%% md\n"
    }
   },
   "source": [
    "# TELL Runs for IM3's Experiment Group B \n",
    "\n",
    "This notebook executes the initial set of runs of the TELL model for IM3's Experiment Group B."
   ]
  },
  {
   "cell_type": "code",
   "execution_count": 1,
   "id": "86db683a-70a2-4f89-a1d6-4c6d5f180272",
   "metadata": {
    "pycharm": {
     "name": "#%%\n"
    }
   },
   "outputs": [],
   "source": [
    "# Start by importing the TELL package and information about your operating system:\n",
    "import os \n",
    "import tell\n",
    "\n",
    "import pandas as pd\n",
    "import matplotlib.pyplot as plt\n",
    "\n",
    "from tell.package_data import get_ba_abbreviations\n"
   ]
  },
  {
   "cell_type": "markdown",
   "id": "566fce96-4576-4a2d-9db6-4d0be72b3c1d",
   "metadata": {
    "pycharm": {
     "name": "#%% md\n"
    }
   },
   "source": [
    "## Set the Directory Structure"
   ]
  },
  {
   "cell_type": "code",
   "execution_count": null,
   "id": "f7cc0f66-ba83-47d4-b161-0b1ad076064c",
   "metadata": {
    "pycharm": {
     "name": "#%%\n"
    }
   },
   "outputs": [],
   "source": [
    "# Identify the top-level directory and the subdirectory where the data will be stored:\n",
    "current_dir =  '/Users/burl878/Documents/IMMM/Data/TELL/Production_Runs'\n",
    "tell_data_dir = os.path.join(current_dir, r'tell_data')\n",
    "\n",
    "# If the \"tell_data_dir\" subdirectory doesn't exist then create it:\n",
    "if not os.path.exists(tell_data_dir):\n",
    "   os.makedirs(tell_data_dir)\n"
   ]
  },
  {
   "cell_type": "markdown",
   "id": "4a037554",
   "metadata": {
    "pycharm": {
     "name": "#%% md\n"
    }
   },
   "source": [
    "## Run the MLP Models"
   ]
  },
  {
   "cell_type": "code",
   "execution_count": null,
   "id": "76a6b851-29c9-4a1b-a149-ee341f1af5cd",
   "metadata": {
    "pycharm": {
     "name": "#%%\n"
    }
   },
   "outputs": [],
   "source": [
    "# Generate a list of BA abbreviations to process:\n",
    "ba_abbrev_list = tell.get_balancing_authority_to_model_dict().keys()\n",
    "\n",
    "scenario_to_process = 'historic'\n",
    "\n",
    "# Run the MLP prediction step for the list of BAs using parallel processing streams:\n",
    "for year_to_process in range(1980,2020,1):\n",
    "    pdf = tell.predict_batch(target_region_list = ba_abbrev_list,\n",
    "                             year = year_to_process,\n",
    "                             data_dir = os.path.join(tell_data_dir, r'wrf_to_tell_data', scenario_to_process),\n",
    "                             datetime_field_name = 'Time_UTC',\n",
    "                             save_prediction = True,\n",
    "                             prediction_output_directory = os.path.join(tell_data_dir, r'outputs', r'mlp_output', scenario_to_process),\n",
    "                             n_jobs = -1)\n"
   ]
  },
  {
   "cell_type": "markdown",
   "id": "f9048639",
   "metadata": {
    "pycharm": {
     "name": "#%% md\n"
    }
   },
   "source": [
    "## Run the Forward Execution"
   ]
  },
  {
   "cell_type": "code",
   "execution_count": null,
   "id": "04afab9a",
   "metadata": {
    "pycharm": {
     "name": "#%%\n"
    }
   },
   "outputs": [],
   "source": [
    "# Run the TELL model forward in time:\n",
    "for year in range(2020,2100,1):\n",
    "    summary_df, ba_time_series_df, state_time_series_df = tell.execute_forward(year_to_process = str(year),\n",
    "                                                                               gcam_target_year = str(year), \n",
    "                                                                               scenario_to_process = 'rcp85hotter_ssp5',\n",
    "                                                                               data_output_dir = '/Users/burl878/Documents/IMMM/Data/TELL/Production_Runs/tell_data/outputs/tell_output',\n",
    "                                                                               gcam_usa_input_dir = '/Users/burl878/Documents/IMMM/Data/TELL/Production_Runs/tell_data/gcamusa_data',\n",
    "                                                                               map_input_dir = '/Users/burl878/Documents/IMMM/Data/TELL/Production_Runs/tell_data/ba_service_territory_data',\n",
    "                                                                               mlp_input_dir = '/Users/burl878/Documents/IMMM/Data/TELL/Production_Runs/tell_data/outputs/mlp_output',\n",
    "                                                                               pop_input_dir = '/Users/burl878/Documents/IMMM/Data/TELL/Production_Runs/tell_data/population_data',\n",
    "                                                                               save_county_data = False)\n"
   ]
  },
  {
   "cell_type": "code",
   "execution_count": 3,
   "id": "180fed5e-d89d-4815-b2c5-64f45d68095f",
   "metadata": {},
   "outputs": [
    {
     "name": "stdout",
     "output_type": "stream",
     "text": [
      "Start time =  2023-11-14 08:53:13.854100\n",
      "End time =  2023-11-14 08:54:22.069180\n",
      "Elapsed time =  0:01:08.215183\n",
      "Start time =  2023-11-14 08:54:22.419632\n",
      "End time =  2023-11-14 08:55:30.954524\n",
      "Elapsed time =  0:01:08.535002\n",
      "Start time =  2023-11-14 08:55:31.319833\n",
      "End time =  2023-11-14 08:56:40.739652\n",
      "Elapsed time =  0:01:09.419926\n",
      "Start time =  2023-11-14 08:56:41.084704\n",
      "End time =  2023-11-14 08:57:49.699540\n",
      "Elapsed time =  0:01:08.614939\n",
      "Start time =  2023-11-14 08:57:50.057077\n",
      "End time =  2023-11-14 08:59:02.145805\n",
      "Elapsed time =  0:01:12.088811\n",
      "Start time =  2023-11-14 08:59:02.524506\n",
      "End time =  2023-11-14 09:00:12.419829\n",
      "Elapsed time =  0:01:09.895431\n",
      "Start time =  2023-11-14 09:00:12.769127\n",
      "End time =  2023-11-14 09:01:21.716863\n",
      "Elapsed time =  0:01:08.947842\n",
      "Start time =  2023-11-14 09:01:22.062170\n",
      "End time =  2023-11-14 09:02:30.332712\n",
      "Elapsed time =  0:01:08.270661\n",
      "Start time =  2023-11-14 09:02:30.681522\n",
      "End time =  2023-11-14 09:03:41.258083\n",
      "Elapsed time =  0:01:10.576654\n",
      "Start time =  2023-11-14 09:03:41.608511\n",
      "End time =  2023-11-14 09:04:50.925397\n",
      "Elapsed time =  0:01:09.316986\n",
      "Start time =  2023-11-14 09:04:51.275830\n",
      "End time =  2023-11-14 09:06:01.518514\n",
      "Elapsed time =  0:01:10.242779\n",
      "Start time =  2023-11-14 09:06:01.867865\n",
      "End time =  2023-11-14 09:07:10.885068\n",
      "Elapsed time =  0:01:09.017306\n",
      "Start time =  2023-11-14 09:07:11.239225\n",
      "End time =  2023-11-14 09:08:20.805961\n",
      "Elapsed time =  0:01:09.566835\n",
      "Start time =  2023-11-14 09:08:21.156880\n",
      "End time =  2023-11-14 09:09:30.296218\n",
      "Elapsed time =  0:01:09.139434\n",
      "Start time =  2023-11-14 09:09:30.641621\n",
      "End time =  2023-11-14 09:10:39.835359\n",
      "Elapsed time =  0:01:09.193839\n",
      "Start time =  2023-11-14 09:10:40.182890\n",
      "End time =  2023-11-14 09:11:51.675974\n",
      "Elapsed time =  0:01:11.493166\n",
      "Start time =  2023-11-14 09:11:52.116818\n",
      "End time =  2023-11-14 09:13:06.786474\n",
      "Elapsed time =  0:01:14.669741\n",
      "Start time =  2023-11-14 09:13:07.167808\n",
      "End time =  2023-11-14 09:14:19.856117\n",
      "Elapsed time =  0:01:12.688393\n",
      "Start time =  2023-11-14 09:14:20.226020\n",
      "End time =  2023-11-14 09:15:31.733650\n",
      "Elapsed time =  0:01:11.507716\n",
      "Start time =  2023-11-14 09:15:32.105602\n",
      "End time =  2023-11-14 09:16:44.260823\n",
      "Elapsed time =  0:01:12.155306\n",
      "Start time =  2023-11-14 09:16:44.632877\n",
      "End time =  2023-11-14 09:17:57.038313\n",
      "Elapsed time =  0:01:12.405526\n",
      "Start time =  2023-11-14 09:17:57.402392\n",
      "End time =  2023-11-14 09:19:06.823648\n",
      "Elapsed time =  0:01:09.421346\n",
      "Start time =  2023-11-14 09:19:07.168558\n",
      "End time =  2023-11-14 09:20:16.301012\n",
      "Elapsed time =  0:01:09.132552\n",
      "Start time =  2023-11-14 09:20:16.655380\n",
      "End time =  2023-11-14 09:21:25.808784\n",
      "Elapsed time =  0:01:09.153520\n",
      "Start time =  2023-11-14 09:21:26.166829\n",
      "End time =  2023-11-14 09:22:35.796729\n",
      "Elapsed time =  0:01:09.630010\n",
      "Start time =  2023-11-14 09:22:36.148403\n",
      "End time =  2023-11-14 09:23:44.809303\n",
      "Elapsed time =  0:01:08.660997\n",
      "Start time =  2023-11-14 09:23:45.157487\n",
      "End time =  2023-11-14 09:24:54.252363\n",
      "Elapsed time =  0:01:09.094964\n",
      "Start time =  2023-11-14 09:24:54.616171\n",
      "End time =  2023-11-14 09:26:04.540051\n",
      "Elapsed time =  0:01:09.923974\n",
      "Start time =  2023-11-14 09:26:04.895989\n",
      "End time =  2023-11-14 09:27:16.415773\n",
      "Elapsed time =  0:01:11.519869\n",
      "Start time =  2023-11-14 09:27:16.787286\n",
      "End time =  2023-11-14 09:28:27.006829\n",
      "Elapsed time =  0:01:10.219641\n",
      "Start time =  2023-11-14 09:28:27.352919\n",
      "End time =  2023-11-14 09:29:37.489055\n",
      "Elapsed time =  0:01:10.136233\n",
      "Start time =  2023-11-14 09:29:37.841673\n",
      "End time =  2023-11-14 09:30:47.836355\n",
      "Elapsed time =  0:01:09.994778\n",
      "Start time =  2023-11-14 09:30:48.183799\n",
      "End time =  2023-11-14 09:31:58.792414\n",
      "Elapsed time =  0:01:10.608709\n",
      "Start time =  2023-11-14 09:31:59.147597\n",
      "End time =  2023-11-14 09:33:08.655939\n",
      "Elapsed time =  0:01:09.508435\n",
      "Start time =  2023-11-14 09:33:09.009838\n",
      "End time =  2023-11-14 09:34:18.190546\n",
      "Elapsed time =  0:01:09.180797\n",
      "Start time =  2023-11-14 09:34:18.545757\n",
      "End time =  2023-11-14 09:35:27.589714\n",
      "Elapsed time =  0:01:09.044052\n",
      "Start time =  2023-11-14 09:35:27.937927\n",
      "End time =  2023-11-14 09:36:37.972586\n",
      "Elapsed time =  0:01:10.034767\n",
      "Start time =  2023-11-14 09:36:38.320860\n",
      "End time =  2023-11-14 09:37:47.194609\n",
      "Elapsed time =  0:01:08.873852\n",
      "Start time =  2023-11-14 09:37:47.543031\n",
      "End time =  2023-11-14 09:38:56.678144\n",
      "Elapsed time =  0:01:09.135226\n",
      "Start time =  2023-11-14 09:38:57.025786\n",
      "End time =  2023-11-14 09:40:06.283788\n",
      "Elapsed time =  0:01:09.258098\n"
     ]
    }
   ],
   "source": [
    "# Run the TELL model forward in time:\n",
    "for year in range(1980,2020,1):\n",
    "    summary_df, ba_time_series_df, state_time_series_df = tell.execute_forward(year_to_process = str(year),\n",
    "                                                                               gcam_target_year = str(year), \n",
    "                                                                               scenario_to_process = 'historic',\n",
    "                                                                               data_output_dir = '/Users/burl878/Documents/IMMM/Data/TELL/Production_Runs/tell_data/outputs/tell_output',\n",
    "                                                                               gcam_usa_input_dir = '/Users/burl878/Documents/IMMM/Data/TELL/Production_Runs/tell_data/gcamusa_data',\n",
    "                                                                               map_input_dir = '/Users/burl878/Documents/IMMM/Data/TELL/Production_Runs/tell_data/ba_service_territory_data',\n",
    "                                                                               mlp_input_dir = '/Users/burl878/Documents/IMMM/Data/TELL/Production_Runs/tell_data/outputs/mlp_output',\n",
    "                                                                               pop_input_dir = '/Users/burl878/Documents/IMMM/Data/TELL/Production_Runs/tell_data/population_data',\n",
    "                                                                               save_county_data = False)\n"
   ]
  },
  {
   "cell_type": "code",
   "execution_count": null,
   "id": "53e89369-0f72-426f-aa9e-2e51fd4938af",
   "metadata": {},
   "outputs": [],
   "source": []
  }
 ],
 "metadata": {
  "kernelspec": {
   "display_name": "py3.9.15_std",
   "language": "python",
   "name": "py3.9.15_std"
  },
  "language_info": {
   "codemirror_mode": {
    "name": "ipython",
    "version": 3
   },
   "file_extension": ".py",
   "mimetype": "text/x-python",
   "name": "python",
   "nbconvert_exporter": "python",
   "pygments_lexer": "ipython3",
   "version": "3.9.15"
  }
 },
 "nbformat": 4,
 "nbformat_minor": 5
}
